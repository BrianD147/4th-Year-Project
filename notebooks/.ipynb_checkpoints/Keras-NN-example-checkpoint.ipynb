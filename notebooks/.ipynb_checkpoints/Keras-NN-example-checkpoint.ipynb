{
 "cells": [
  {
   "cell_type": "markdown",
   "metadata": {},
   "source": [
    "## 1. Import all the nessessary imports"
   ]
  },
  {
   "cell_type": "code",
   "execution_count": 10,
   "metadata": {},
   "outputs": [],
   "source": [
    "%matplotlib inline\n",
    "import matplotlib\n",
    "import matplotlib.pyplot as plt\n",
    "\n",
    "import numpy as np\n",
    "from keras.utils import to_categorical\n",
    "from keras import models\n",
    "from keras import layers\n",
    "\n",
    "# import necessary modules from keras\n",
    "from keras.layers import Dense, Dropout\n",
    "from keras.models import Sequential"
   ]
  },
  {
   "cell_type": "markdown",
   "metadata": {},
   "source": [
    "## 2. Import the IMBD dataset, which is built into keras"
   ]
  },
  {
   "cell_type": "code",
   "execution_count": 11,
   "metadata": {},
   "outputs": [],
   "source": [
    "from keras.datasets import imdb\n",
    "\n",
    "(training_data, training_targets), (testing_data, testing_targets) = imdb.load_data(num_words=10000)"
   ]
  },
  {
   "cell_type": "markdown",
   "metadata": {},
   "source": [
    "## 3. Set up data and targets"
   ]
  },
  {
   "cell_type": "code",
   "execution_count": 12,
   "metadata": {},
   "outputs": [],
   "source": [
    "data = np.concatenate((training_data, testing_data), axis=0)\n",
    "targets = np.concatenate((training_targets, testing_targets), axis=0)"
   ]
  },
  {
   "cell_type": "markdown",
   "metadata": {},
   "source": [
    "## 4. Vectorize the results to suit the NN"
   ]
  },
  {
   "cell_type": "code",
   "execution_count": 13,
   "metadata": {},
   "outputs": [],
   "source": [
    "# Vectorize reviews with fewer than 10,000 words and pad the excess with zeros\n",
    "# Every input to the NN needs to be the same size\n",
    "def vectorize(sequences, dimension = 10000):\n",
    "    results = np.zeros((len(sequences), dimension))\n",
    "    for i, sequence in enumerate(sequences):\n",
    "        results[i, sequence] = 1\n",
    "    return results\n",
    "\n",
    "data = vectorize(data)\n",
    "targets = np.array(targets).astype(\"float32\")"
   ]
  },
  {
   "cell_type": "markdown",
   "metadata": {},
   "source": [
    "## 5. Assign the testing and training sets"
   ]
  },
  {
   "cell_type": "code",
   "execution_count": 14,
   "metadata": {},
   "outputs": [],
   "source": [
    "test_x = data[:10000]\n",
    "test_y = targets[:10000]\n",
    "train_x = data[10000:]\n",
    "train_y = targets[10000:]"
   ]
  },
  {
   "cell_type": "markdown",
   "metadata": {},
   "source": [
    "## 6. Set up the layers and model"
   ]
  },
  {
   "cell_type": "code",
   "execution_count": 15,
   "metadata": {},
   "outputs": [
    {
     "name": "stdout",
     "output_type": "stream",
     "text": [
      "_________________________________________________________________\n",
      "Layer (type)                 Output Shape              Param #   \n",
      "=================================================================\n",
      "dense_5 (Dense)              (None, 50)                500050    \n",
      "_________________________________________________________________\n",
      "dropout_3 (Dropout)          (None, 50)                0         \n",
      "_________________________________________________________________\n",
      "dense_6 (Dense)              (None, 50)                2550      \n",
      "_________________________________________________________________\n",
      "dropout_4 (Dropout)          (None, 50)                0         \n",
      "_________________________________________________________________\n",
      "dense_7 (Dense)              (None, 50)                2550      \n",
      "_________________________________________________________________\n",
      "dense_8 (Dense)              (None, 1)                 51        \n",
      "=================================================================\n",
      "Total params: 505,201\n",
      "Trainable params: 505,201\n",
      "Non-trainable params: 0\n",
      "_________________________________________________________________\n"
     ]
    }
   ],
   "source": [
    "# Set the Model to Sequential\n",
    "model = models.Sequential()\n",
    "\n",
    "# Input - Layer\n",
    "model.add(layers.Dense(50, activation = \"relu\", input_shape=(10000, )))\n",
    "# Hidden - Layers\n",
    "model.add(layers.Dropout(0.3, noise_shape=None, seed=None))\n",
    "model.add(layers.Dense(50, activation = \"relu\"))\n",
    "model.add(layers.Dropout(0.2, noise_shape=None, seed=None))\n",
    "model.add(layers.Dense(50, activation = \"relu\"))\n",
    "# Output- Layer\n",
    "model.add(layers.Dense(1, activation = \"sigmoid\"))\n",
    "\n",
    "# Prints a summary of how the model currently looks\n",
    "model.summary()"
   ]
  },
  {
   "cell_type": "markdown",
   "metadata": {},
   "source": [
    "## 7. Configure and Train the model"
   ]
  },
  {
   "cell_type": "code",
   "execution_count": 16,
   "metadata": {},
   "outputs": [
    {
     "name": "stdout",
     "output_type": "stream",
     "text": [
      "Train on 40000 samples, validate on 10000 samples\n",
      "Epoch 1/15\n",
      "40000/40000 [==============================] - 18s 443us/step - loss: 0.4700 - acc: 0.7894 - val_loss: 0.2803 - val_acc: 0.8912\n",
      "Epoch 2/15\n",
      "40000/40000 [==============================] - 9s 234us/step - loss: 0.2393 - acc: 0.9090 - val_loss: 0.2598 - val_acc: 0.8966\n",
      "Epoch 3/15\n",
      "40000/40000 [==============================] - 9s 235us/step - loss: 0.1763 - acc: 0.9359 - val_loss: 0.2763 - val_acc: 0.8931\n",
      "Epoch 4/15\n",
      "40000/40000 [==============================] - 9s 236us/step - loss: 0.1275 - acc: 0.9558 - val_loss: 0.3112 - val_acc: 0.8909\n",
      "Epoch 5/15\n",
      "40000/40000 [==============================] - 9s 235us/step - loss: 0.0888 - acc: 0.9705 - val_loss: 0.3650 - val_acc: 0.8876\n",
      "Epoch 6/15\n",
      "40000/40000 [==============================] - 10s 240us/step - loss: 0.0610 - acc: 0.9808 - val_loss: 0.4143 - val_acc: 0.8849\n",
      "Epoch 7/15\n",
      "40000/40000 [==============================] - 10s 242us/step - loss: 0.0454 - acc: 0.9856 - val_loss: 0.4835 - val_acc: 0.8838\n",
      "Epoch 8/15\n",
      "40000/40000 [==============================] - 9s 234us/step - loss: 0.0335 - acc: 0.9889 - val_loss: 0.4952 - val_acc: 0.8834\n",
      "Epoch 9/15\n",
      "40000/40000 [==============================] - 10s 241us/step - loss: 0.0269 - acc: 0.9914 - val_loss: 0.5708 - val_acc: 0.8828\n",
      "Epoch 10/15\n",
      "40000/40000 [==============================] - 10s 238us/step - loss: 0.0230 - acc: 0.9925 - val_loss: 0.5555 - val_acc: 0.8815\n",
      "Epoch 11/15\n",
      "40000/40000 [==============================] - 10s 238us/step - loss: 0.0199 - acc: 0.9930 - val_loss: 0.6116 - val_acc: 0.8807\n",
      "Epoch 12/15\n",
      "40000/40000 [==============================] - 10s 241us/step - loss: 0.0199 - acc: 0.9931 - val_loss: 0.6430 - val_acc: 0.8775\n",
      "Epoch 13/15\n",
      "40000/40000 [==============================] - 10s 243us/step - loss: 0.0217 - acc: 0.9926 - val_loss: 0.6048 - val_acc: 0.8779\n",
      "Epoch 14/15\n",
      "40000/40000 [==============================] - 9s 235us/step - loss: 0.0183 - acc: 0.9935 - val_loss: 0.6549 - val_acc: 0.8759\n",
      "Epoch 15/15\n",
      "40000/40000 [==============================] - 10s 244us/step - loss: 0.0169 - acc: 0.9943 - val_loss: 0.6578 - val_acc: 0.8816\n"
     ]
    }
   ],
   "source": [
    "# Configure the model for training\n",
    "model.compile(\n",
    " optimizer = \"adam\",\n",
    " loss = \"binary_crossentropy\",\n",
    " metrics = [\"accuracy\"]\n",
    ")\n",
    "\n",
    "# Train the model with the training set against the validated test set\n",
    "# Epoch of size 15 and a batch size of 1000 - model overfits if and larger\n",
    "results = model.fit(\n",
    " train_x, train_y,\n",
    " epochs= 15,\n",
    " batch_size = 1000,\n",
    " validation_data = (test_x, test_y)\n",
    ")"
   ]
  },
  {
   "cell_type": "markdown",
   "metadata": {},
   "source": [
    "## 8. Evaulate and print the mean results"
   ]
  },
  {
   "cell_type": "code",
   "execution_count": 17,
   "metadata": {},
   "outputs": [
    {
     "name": "stdout",
     "output_type": "stream",
     "text": [
      "Test-Accuracy: 0.8846266671021777\n"
     ]
    }
   ],
   "source": [
    "# Evaluate and print\n",
    "print(\"Test-Accuracy:\", np.mean(results.history[\"val_acc\"]))"
   ]
  },
  {
   "cell_type": "markdown",
   "metadata": {},
   "source": [
    "## 9. Plot out graph of the results"
   ]
  },
  {
   "cell_type": "code",
   "execution_count": 18,
   "metadata": {},
   "outputs": [
    {
     "data": {
      "image/png": "[encoded data removed]",
      "text/plain": [
       "<Figure size 432x288 with 1 Axes>"
      ]
     },
     "metadata": {
      "needs_background": "light"
     },
     "output_type": "display_data"
    },
    {
     "data": {
      "image/png": "[encoded data removed]",
      "text/plain": [
       "<Figure size 432x288 with 1 Axes>"
      ]
     },
     "metadata": {
      "needs_background": "light"
     },
     "output_type": "display_data"
    }
   ],
   "source": [
    "plt.plot(results.history['acc'])\n",
    "plt.plot(results.history['val_acc'])\n",
    "plt.title('Model accuracy')\n",
    "plt.ylabel('Accuracy')\n",
    "plt.xlabel('Epoch')\n",
    "plt.legend(['Train', 'Test'], loc='upper left')\n",
    "plt.show()\n",
    "\n",
    "plt.plot(results.history['loss'])\n",
    "plt.plot(results.history['val_loss'])\n",
    "plt.title('Model loss')\n",
    "plt.ylabel('Loss')\n",
    "plt.xlabel('Epoch')\n",
    "plt.legend(['Train', 'Test'], loc='upper left')\n",
    "plt.show()"
   ]
  },
  {
   "cell_type": "code",
   "execution_count": null,
   "metadata": {},
   "outputs": [],
   "source": []
  }
 ],
 "metadata": {
  "kernelspec": {
   "display_name": "Python 3",
   "language": "python",
   "name": "python3"
  },
  "language_info": {
   "codemirror_mode": {
    "name": "ipython",
    "version": 3
   },
   "file_extension": ".py",
   "mimetype": "text/x-python",
   "name": "python",
   "nbconvert_exporter": "python",
   "pygments_lexer": "ipython3",
   "version": "3.6.7"
  }
 },
 "nbformat": 4,
 "nbformat_minor": 2
}
