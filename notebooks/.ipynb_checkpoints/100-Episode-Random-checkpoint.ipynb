{
 "cells": [
  {
   "cell_type": "markdown",
   "metadata": {},
   "source": [
    "## 1. Setting up environment\n",
    "\n",
    "Be sure to set env_name to the name of the Unity environment file you want to launch. For this example its the build of our project\n"
   ]
  },
  {
   "cell_type": "code",
   "execution_count": 1,
   "metadata": {},
   "outputs": [],
   "source": [
    "env_name = \"../4th-Year-Project/Builds/Random-Action/4th-Year-Project\"  # Name of the Unity environment binary to launch\n",
    "train_mode = True  # Whether to run the environment in training or inference mode"
   ]
  },
  {
   "cell_type": "markdown",
   "metadata": {},
   "source": [
    "## 2. Load Dependancies\n",
    "\n",
    "The following loads the necessary dependencies and checks the Python version (at runtime). \n",
    "ML-Agents Toolkit (v0.3 onwards) requires Python 3."
   ]
  },
  {
   "cell_type": "code",
   "execution_count": 2,
   "metadata": {},
   "outputs": [
    {
     "name": "stdout",
     "output_type": "stream",
     "text": [
      "Python version:\n",
      "3.6.7 |Anaconda, Inc.| (default, Oct 28 2018, 19:44:12) [MSC v.1915 64 bit (AMD64)]\n"
     ]
    }
   ],
   "source": [
    "import matplotlib.pyplot as plt\n",
    "import numpy as np\n",
    "from keras.utils import to_categorical\n",
    "from keras import models\n",
    "from keras import layers\n",
    "import sys\n",
    "\n",
    "from mlagents.envs import UnityEnvironment\n",
    "\n",
    "%matplotlib inline\n",
    "\n",
    "print(\"Python version:\")\n",
    "print(sys.version)\n",
    "\n",
    "# check Python version\n",
    "if (sys.version_info[0] < 3):\n",
    "    raise Exception(\"ERROR: ML-Agents Toolkit (v0.3 onwards) requires Python 3\")"
   ]
  },
  {
   "cell_type": "markdown",
   "metadata": {},
   "source": [
    "## 3. Start the environment\n",
    "\n",
    "UnityEnvironment launches and begins communication with the environment when instantiated.\n",
    "\n",
    "A Unity launcher will appear and prompt the user for preferences. You can adjust these yourself or leave them as is. Once you are ready click play and the program should execute.\n",
    "On execution it should stall, once it does navigate to this notebook and execute the next cell.\n",
    "\n",
    "Environments contain brains which are responsible for deciding the actions of their associated agents. Here we check for the first brain available, and set it as the default brain we will be controlling from Python.\n"
   ]
  },
  {
   "cell_type": "code",
   "execution_count": 3,
   "metadata": {},
   "outputs": [
    {
     "name": "stderr",
     "output_type": "stream",
     "text": [
      "INFO:mlagents.envs:\n",
      "'Academy' started successfully!\n",
      "Unity Academy name: Academy\n",
      "        Number of Brains: 1\n",
      "        Number of External Brains : 1\n",
      "        Reset Parameters :\n",
      "\t\t\n",
      "Unity brain name: Brain\n",
      "        Number of Visual Observations (per agent): 0\n",
      "        Vector Observation space size (per agent): 8\n",
      "        Number of stacked Vector Observation: 3\n",
      "        Vector Action space type: continuous\n",
      "        Vector Action space size (per agent): [2]\n",
      "        Vector Action descriptions: , \n"
     ]
    }
   ],
   "source": [
    "env = UnityEnvironment(file_name=env_name)\n",
    "\n",
    "# Set the default brain to work with\n",
    "default_brain = env.brain_names[0]\n",
    "brain = env.brains[default_brain]"
   ]
  },
  {
   "cell_type": "markdown",
   "metadata": {},
   "source": [
    "## 4. Restart Environment and view current state of the agent\n",
    "\n",
    "We can reset the environment to be provided with an initial set of observations and states for all the agents within the environment. In ML-Agents, states refer to a vector of variables corresponding to relevant aspects of the environment for an agent. Likewise, observations refer to a set of relevant pixel-wise visuals for an agent.\n"
   ]
  },
  {
   "cell_type": "code",
   "execution_count": 4,
   "metadata": {},
   "outputs": [
    {
     "name": "stdout",
     "output_type": "stream",
     "text": [
      "Agent state looks like: \n",
      "[ 0.          0.          0.          0.          0.          0.\n",
      "  0.          0.          0.          0.          0.          0.\n",
      "  0.          0.          0.          0.          0.86000001  0.\n",
      "  0.13999996 -1.86000001  1.         -1.          0.          0.        ]\n"
     ]
    }
   ],
   "source": [
    "# Reset the environment\n",
    "env_info = env.reset(train_mode=train_mode)[default_brain]\n",
    "\n",
    "# Examine the state space for the default brain\n",
    "print(\"Agent state looks like: \\n{}\".format(env_info.vector_observations[0]))\n",
    "\n",
    "# Examine the observation space for the default brain\n",
    "for observation in env_info.visual_observations:\n",
    "    print(\"Agent observations look like:\")\n",
    "    if observation.shape[3] == 3:\n",
    "        plt.imshow(observation[0,:,:,:])\n",
    "    else:\n",
    "        plt.imshow(observation[0,:,:,0])"
   ]
  },
  {
   "cell_type": "markdown",
   "metadata": {},
   "source": [
    "## 5. Take random actions in the environment\n",
    "\n",
    "Once we restart an environment, we can step the environment forward and provide actions to all of the agents within the environment. Here we simply choose random actions based on the action_space_type of the default brain.\n",
    "\n",
    "Once this cell is executed, 100 messages will be printed that detail how much reward will be accumulated for the next 100 episodes. The Unity environment will then pause, waiting for further signals telling it what to do next."
   ]
  },
  {
   "cell_type": "code",
   "execution_count": 5,
   "metadata": {},
   "outputs": [
    {
     "name": "stdout",
     "output_type": "stream",
     "text": [
      "Total reward this episode: -362.09997833520174\n",
      "Total reward this episode: 4.97499942779541\n",
      "Total reward this episode: 4.97499942779541\n",
      "Total reward this episode: 4.97499942779541\n",
      "Total reward this episode: 4.97499942779541\n",
      "Total reward this episode: 2.9749996662139893\n",
      "Total reward this episode: -361.2749783843756\n",
      "Total reward this episode: -82.19999501854181\n",
      "Total reward this episode: -968.9499424025416\n",
      "Total reward this episode: -63.67499612271786\n",
      "Total reward this episode: -301.29998195916414\n",
      "Total reward this episode: -748.499955303967\n",
      "Total reward this episode: -334.3999799862504\n",
      "Total reward this episode: -397.7999762073159\n",
      "Total reward this episode: -882.849947296083\n",
      "Total reward this episode: -70.02499574422836\n",
      "Total reward this episode: -541.8499676212668\n",
      "Total reward this episode: -351.54997896403074\n",
      "Total reward this episode: -199.6249880194664\n",
      "Total reward this episode: -28.84999819844961\n",
      "Total reward this episode: -483.2999711111188\n",
      "Total reward this episode: -55.87499658763409\n",
      "Total reward this episode: -289.8999826386571\n",
      "Total reward this episode: -1014.9499394223094\n",
      "Total reward this episode: 1.4000000581145287\n",
      "Total reward this episode: -6.249999545514584\n",
      "Total reward this episode: -406.2249757051468\n",
      "Total reward this episode: -6.949999503791332\n",
      "Total reward this episode: -29.0249981880188\n",
      "Total reward this episode: -118.6749928444624\n",
      "Total reward this episode: -1008.8749397844076\n",
      "Total reward this episode: -477.47497145831585\n",
      "Total reward this episode: -184.14998888224363\n",
      "Total reward this episode: -158.89999044686556\n",
      "Total reward this episode: -119.52499279379845\n",
      "Total reward this episode: -151.32499089837074\n",
      "Total reward this episode: 4.97499942779541\n",
      "Total reward this episode: 1.975000023841858\n",
      "Total reward this episode: -101.49999386817217\n",
      "Total reward this episode: -249.87498496472836\n",
      "Total reward this episode: 4.97499942779541\n",
      "Total reward this episode: 4.97499942779541\n",
      "Total reward this episode: 4.97499942779541\n",
      "Total reward this episode: 4.97499942779541\n",
      "Total reward this episode: 4.97499942779541\n",
      "Total reward this episode: 1.975000023841858\n",
      "Total reward this episode: -39.249997578561306\n",
      "Total reward this episode: -102.72499379515648\n",
      "Total reward this episode: -88.92499461770058\n",
      "Total reward this episode: -7.049999497830868\n",
      "Total reward this episode: -531.7749682217836\n",
      "Total reward this episode: -23.449998520314693\n",
      "Total reward this episode: -248.74998509138823\n",
      "Total reward this episode: -507.0249696969986\n",
      "Total reward this episode: -580.4249655008316\n",
      "Total reward this episode: -0.6749998778104782\n",
      "Total reward this episode: -240.9999859109521\n",
      "Total reward this episode: 4.97499942779541\n",
      "Total reward this episode: 4.97499942779541\n",
      "Total reward this episode: -70.2749957293272\n",
      "Total reward this episode: -412.8999753072858\n",
      "Total reward this episode: -150.89999092370272\n",
      "Total reward this episode: -627.1999625340104\n",
      "Total reward this episode: -15.399999000132084\n",
      "Total reward this episode: -145.77499122917652\n",
      "Total reward this episode: -38.924997597932816\n",
      "Total reward this episode: -898.5749463587999\n",
      "Total reward this episode: -701.0249581336975\n",
      "Total reward this episode: -33.72499790787697\n",
      "Total reward this episode: -25.274998411536217\n",
      "Total reward this episode: -270.74998378008604\n",
      "Total reward this episode: -252.54998510330915\n",
      "Total reward this episode: -488.7499707862735\n",
      "Total reward this episode: -12.874999150633812\n",
      "Total reward this episode: -239.67498563230038\n",
      "Total reward this episode: -143.6249913573265\n",
      "Total reward this episode: -0.024999916553497314\n",
      "Total reward this episode: -69.69999576359987\n",
      "Total reward this episode: 3.9749996662139893\n",
      "Total reward this episode: -260.3999843969941\n",
      "Total reward this episode: -647.4749613255262\n",
      "Total reward this episode: -405.5999757423997\n",
      "Total reward this episode: -159.34999042004347\n",
      "Total reward this episode: -2.0999997928738594\n",
      "Total reward this episode: -10.324999302625656\n",
      "Total reward this episode: 4.97499942779541\n",
      "Total reward this episode: 1.975000023841858\n",
      "Total reward this episode: -158.374990478158\n",
      "Total reward this episode: -2.7499997541308403\n",
      "Total reward this episode: -12.92499914765358\n",
      "Total reward this episode: -135.92499175667763\n",
      "Total reward this episode: -118.27499286830425\n",
      "Total reward this episode: -647.6999613121152\n",
      "Total reward this episode: -345.24997933954\n",
      "Total reward this episode: -79.92499515414238\n",
      "Total reward this episode: -493.9749704748392\n",
      "Total reward this episode: -853.9499490186572\n",
      "Total reward this episode: -212.99998722225428\n",
      "Total reward this episode: -18.824998795986176\n",
      "Total reward this episode: -8.5499994084239\n",
      "[-362.1, 4.97, 4.97, 4.97, 4.97, 2.97, -361.27, -82.2, -968.95, -63.67, -301.3, -748.5, -334.4, -397.8, -882.85, -70.02, -541.85, -351.55, -199.62, -28.85, -483.3, -55.87, -289.9, -1014.95, 1.4, -6.25, -406.22, -6.95, -29.02, -118.67, -1008.87, -477.47, -184.15, -158.9, -119.52, -151.32, 4.97, 1.98, -101.5, -249.87, 4.97, 4.97, 4.97, 4.97, 4.97, 1.98, -39.25, -102.72, -88.92, -7.05, -531.77, -23.45, -248.75, -507.02, -580.42, -0.67, -241.0, 4.97, 4.97, -70.27, -412.9, -150.9, -627.2, -15.4, -145.77, -38.92, -898.57, -701.02, -33.72, -25.27, -270.75, -252.55, -488.75, -12.87, -239.67, -143.62, -0.02, -69.7, 3.97, -260.4, -647.47, -405.6, -159.35, -2.1, -10.32, 4.97, 1.98, -158.37, -2.75, -12.92, -135.92, -118.27, -647.7, -345.25, -79.92, -493.97, -853.95, -213.0, -18.82, -8.55]\n"
     ]
    }
   ],
   "source": [
    "x = []\n",
    "for episode in range(100):\n",
    "    env_info = env.reset(train_mode=train_mode)[default_brain]\n",
    "    done = False\n",
    "    episode_rewards = 0\n",
    "    while not done:\n",
    "        action_size = brain.vector_action_space_size\n",
    "        if brain.vector_action_space_type == 'continuous':\n",
    "            env_info = env.step(np.random.randn(len(env_info.agents), \n",
    "                                                action_size[0]))[default_brain]\n",
    "        else:\n",
    "            action = np.column_stack([np.random.randint(0, action_size[i], size=(len(env_info.agents))) for i in range(len(action_size))])\n",
    "            env_info = env.step(action)[default_brain]\n",
    "        episode_rewards += env_info.rewards[0]\n",
    "        done = env_info.local_done[0]\n",
    "    print(\"Total reward this episode: {}\".format(episode_rewards))\n",
    "    x.append(round(episode_rewards, 2))\n",
    "print(x)"
   ]
  },
  {
   "cell_type": "markdown",
   "metadata": {},
   "source": [
    "## 6. Plot Rewards onto a graph\n",
    "\n",
    "Once the episodes have finished, we append each reward value into an array. We then plot the values of the array onto a graph. Considering this is a random input the graph results will vary greatly"
   ]
  },
  {
   "cell_type": "code",
   "execution_count": 6,
   "metadata": {},
   "outputs": [
    {
     "data": {
      "image/png": "[encoded data removed]",
      "text/plain": [
       "<Figure size 432x288 with 1 Axes>"
      ]
     },
     "metadata": {
      "needs_background": "light"
     },
     "output_type": "display_data"
    }
   ],
   "source": [
    "y = np.arange(100)\n",
    "plt.plot(y, x)\n",
    "plt.ylabel('Rewards')\n",
    "plt.xlabel('Episode')\n",
    "plt.show()"
   ]
  },
  {
   "cell_type": "markdown",
   "metadata": {},
   "source": [
    "## 7. Close Environment"
   ]
  },
  {
   "cell_type": "code",
   "execution_count": 10,
   "metadata": {},
   "outputs": [],
   "source": [
    "env.close()"
   ]
  }
 ],
 "metadata": {
  "kernelspec": {
   "display_name": "Python 3",
   "language": "python",
   "name": "python3"
  },
  "language_info": {
   "codemirror_mode": {
    "name": "ipython",
    "version": 3
   },
   "file_extension": ".py",
   "mimetype": "text/x-python",
   "name": "python",
   "nbconvert_exporter": "python",
   "pygments_lexer": "ipython3",
   "version": "3.6.7"
  }
 },
 "nbformat": 4,
 "nbformat_minor": 2
}
