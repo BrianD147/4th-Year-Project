{
 "cells": [
  {
   "cell_type": "markdown",
   "metadata": {},
   "source": [
    "## 1. Setting up environment\n",
    "\n",
    "Be sure to set env_name to the name of the Unity environment file you want to launch. For this example its the build of our project\n"
   ]
  },
  {
   "cell_type": "code",
   "execution_count": 1,
   "metadata": {},
   "outputs": [],
   "source": [
    "env_name = \"../4th-Year-Project/Builds/Random-Action/4th-Year-Project\"  # Name of the Unity environment binary to launch\n",
    "train_mode = True  # Whether to run the environment in training or inference mode"
   ]
  },
  {
   "cell_type": "markdown",
   "metadata": {},
   "source": [
    "## 2. Load Dependancies\n",
    "\n",
    "The following loads the necessary dependencies and checks the Python version (at runtime). \n",
    "ML-Agents Toolkit (v0.3 onwards) requires Python 3."
   ]
  },
  {
   "cell_type": "code",
   "execution_count": 2,
   "metadata": {},
   "outputs": [
    {
     "name": "stdout",
     "output_type": "stream",
     "text": [
      "Python version:\n",
      "3.6.7 |Anaconda, Inc.| (default, Oct 28 2018, 19:44:12) [MSC v.1915 64 bit (AMD64)]\n"
     ]
    }
   ],
   "source": [
    "import matplotlib.pyplot as plt\n",
    "import numpy as np\n",
    "import sys\n",
    "\n",
    "from mlagents.envs import UnityEnvironment\n",
    "\n",
    "%matplotlib inline\n",
    "\n",
    "print(\"Python version:\")\n",
    "print(sys.version)\n",
    "\n",
    "# check Python version\n",
    "if (sys.version_info[0] < 3):\n",
    "    raise Exception(\"ERROR: ML-Agents Toolkit (v0.3 onwards) requires Python 3\")"
   ]
  },
  {
   "cell_type": "markdown",
   "metadata": {},
   "source": [
    "## 3. Start the environment\n",
    "\n",
    "UnityEnvironment launches and begins communication with the environment when instantiated.\n",
    "\n",
    "A Unity launcher will appear and prompt the user for preferences. You can adjust these yourself or leave them as is. Once you are ready click play and the program should execute.\n",
    "On execution it should stall, once it does navigate to this notebook and execute the next cell.\n",
    "\n",
    "Environments contain brains which are responsible for deciding the actions of their associated agents. Here we check for the first brain available, and set it as the default brain we will be controlling from Python.\n"
   ]
  },
  {
   "cell_type": "code",
   "execution_count": 3,
   "metadata": {},
   "outputs": [
    {
     "name": "stderr",
     "output_type": "stream",
     "text": [
      "INFO:mlagents.envs:\n",
      "'Academy' started successfully!\n",
      "Unity Academy name: Academy\n",
      "        Number of Brains: 1\n",
      "        Number of External Brains : 1\n",
      "        Reset Parameters :\n",
      "\t\t\n",
      "Unity brain name: Brain\n",
      "        Number of Visual Observations (per agent): 0\n",
      "        Vector Observation space size (per agent): 8\n",
      "        Number of stacked Vector Observation: 3\n",
      "        Vector Action space type: continuous\n",
      "        Vector Action space size (per agent): [2]\n",
      "        Vector Action descriptions: , \n"
     ]
    }
   ],
   "source": [
    "env = UnityEnvironment(file_name=env_name)\n",
    "\n",
    "# Set the default brain to work with\n",
    "default_brain = env.brain_names[0]\n",
    "brain = env.brains[default_brain]"
   ]
  },
  {
   "cell_type": "markdown",
   "metadata": {},
   "source": [
    "## 4. Restart Environment and view current state of the agent\n",
    "\n",
    "We can reset the environment to be provided with an initial set of observations and states for all the agents within the environment. In ML-Agents, states refer to a vector of variables corresponding to relevant aspects of the environment for an agent. Likewise, observations refer to a set of relevant pixel-wise visuals for an agent.\n"
   ]
  },
  {
   "cell_type": "code",
   "execution_count": 4,
   "metadata": {},
   "outputs": [
    {
     "name": "stdout",
     "output_type": "stream",
     "text": [
      "Agent state looks like: \n",
      "[ 0.          0.          0.          0.          0.          0.\n",
      "  0.          0.          0.          0.          0.          0.\n",
      "  0.          0.          0.          0.          0.86000001  0.\n",
      "  0.13999996 -1.86000001  1.         -1.          0.          0.        ]\n"
     ]
    }
   ],
   "source": [
    "# Reset the environment\n",
    "env_info = env.reset(train_mode=train_mode)[default_brain]\n",
    "\n",
    "# Examine the state space for the default brain\n",
    "print(\"Agent state looks like: \\n{}\".format(env_info.vector_observations[0]))\n",
    "\n",
    "# Examine the observation space for the default brain\n",
    "for observation in env_info.visual_observations:\n",
    "    print(\"Agent observations look like:\")\n",
    "    if observation.shape[3] == 3:\n",
    "        plt.imshow(observation[0,:,:,:])\n",
    "    else:\n",
    "        plt.imshow(observation[0,:,:,0])"
   ]
  },
  {
   "cell_type": "markdown",
   "metadata": {},
   "source": [
    "## 5. Take random actions in the environment\n",
    "\n",
    "Once we restart an environment, we can step the environment forward and provide actions to all of the agents within the environment. Here we simply choose random actions based on the action_space_type of the default brain.\n",
    "\n",
    "Once this cell is executed, 100 messages will be printed that detail how much reward will be accumulated for the next 100 episodes. The Unity environment will then pause, waiting for further signals telling it what to do next."
   ]
  },
  {
   "cell_type": "code",
   "execution_count": 5,
   "metadata": {},
   "outputs": [
    {
     "name": "stdout",
     "output_type": "stream",
     "text": [
      "Total reward this episode: -128.8999922350049\n",
      "Total reward this episode: -423.0999746993184\n",
      "Total reward this episode: -96.57499416172504\n",
      "Total reward this episode: -106.94999354332685\n",
      "Total reward this episode: -36.37499774992466\n",
      "Total reward this episode: 1.8250000327825546\n",
      "Total reward this episode: -71.47499565780163\n",
      "Total reward this episode: -1371.999918140471\n",
      "Total reward this episode: -125.12499246001244\n",
      "Total reward this episode: -0.7999998703598976\n",
      "Total reward this episode: -608.8499636277556\n",
      "Total reward this episode: -103.89999372512102\n",
      "Total reward this episode: -66.04999598115683\n",
      "Total reward this episode: -528.9749685674906\n",
      "Total reward this episode: -84.3999948874116\n",
      "Total reward this episode: -156.42499059438705\n",
      "Total reward this episode: -184.62498891353607\n",
      "Total reward this episode: -39.8749975413084\n",
      "Total reward this episode: -369.39997790008783\n",
      "Total reward this episode: -236.34998583048582\n",
      "Total reward this episode: -1169.0499302372336\n",
      "Total reward this episode: -482.824971139431\n",
      "Total reward this episode: -1274.024923980236\n",
      "Total reward this episode: -0.5749998837709427\n",
      "Total reward this episode: -1641.1749020963907\n",
      "Total reward this episode: -305.5499817058444\n",
      "Total reward this episode: -0.8999998643994331\n",
      "Total reward this episode: -193.59998837858438\n",
      "Total reward this episode: -20.299998708069324\n",
      "Total reward this episode: -357.29997862130404\n",
      "Total reward this episode: -57.74999647587538\n",
      "Total reward this episode: -134.84999188035727\n",
      "Total reward this episode: 4.97499942779541\n",
      "Total reward this episode: 2.9749996662139893\n",
      "Total reward this episode: -18.59999880939722\n",
      "Total reward this episode: -190.4749885648489\n",
      "Total reward this episode: -375.9999775066972\n",
      "Total reward this episode: -2214.5498679205775\n",
      "Total reward this episode: -935.9749441295862\n",
      "Total reward this episode: 2.84999967366457\n",
      "Total reward this episode: -949.8249433040619\n",
      "Total reward this episode: -70.04999574273825\n",
      "Total reward this episode: -874.3499478027225\n",
      "Total reward this episode: -33.249997936189175\n",
      "Total reward this episode: -828.6749505251646\n",
      "Total reward this episode: -165.87499003112316\n",
      "Total reward this episode: -797.9499523565173\n",
      "Total reward this episode: 4.6999994441866875\n",
      "Total reward this episode: -685.0999590829015\n",
      "Total reward this episode: 0.4750000536441803\n",
      "Total reward this episode: -6.324999541044235\n",
      "Total reward this episode: 4.374999463558197\n",
      "Total reward this episode: 0.9750000238418579\n",
      "Total reward this episode: 0.2250000685453415\n",
      "Total reward this episode: -626.7749625593424\n",
      "Total reward this episode: -0.549999825656414\n",
      "Total reward this episode: -644.4249615073204\n",
      "Total reward this episode: 0.5000000521540642\n",
      "Total reward this episode: -38.22499763965607\n",
      "Total reward this episode: -785.9249530732632\n",
      "Total reward this episode: -203.99998775869608\n",
      "Total reward this episode: -872.8749478906393\n",
      "Total reward this episode: -826.0249506831169\n",
      "Total reward this episode: -305.0999817326665\n",
      "Total reward this episode: -204.62498766183853\n",
      "Total reward this episode: 0.9750000238418579\n",
      "Total reward this episode: -45.04999717324972\n",
      "Total reward this episode: 4.97499942779541\n",
      "Total reward this episode: 4.97499942779541\n",
      "Total reward this episode: 4.97499942779541\n",
      "Total reward this episode: -30.69999808818102\n",
      "Total reward this episode: -964.2749424427748\n",
      "Total reward this episode: 3.9499996677041054\n",
      "Total reward this episode: -391.2999765947461\n",
      "Total reward this episode: -58.87499640882015\n",
      "Total reward this episode: -233.87498597800732\n",
      "Total reward this episode: -253.2999848201871\n",
      "Total reward this episode: -476.22497153282166\n",
      "Total reward this episode: -371.949977748096\n",
      "Total reward this episode: -787.1749529987574\n",
      "Total reward this episode: -359.8499784693122\n",
      "Total reward this episode: -215.34998708218336\n",
      "Total reward this episode: -1352.0499193295836\n",
      "Total reward this episode: -0.7499998733401299\n",
      "Total reward this episode: -461.7749723941088\n",
      "Total reward this episode: -171.8749896734953\n",
      "Total reward this episode: -85.3249948322773\n",
      "Total reward this episode: -148.52499106526375\n",
      "Total reward this episode: -476.37497152388096\n",
      "Total reward this episode: -81.52499505877495\n",
      "Total reward this episode: -520.3249689042568\n",
      "Total reward this episode: -289.699982650578\n",
      "Total reward this episode: -62.54999618977308\n",
      "Total reward this episode: -1861.124888986349\n",
      "Total reward this episode: -47.89999706298113\n",
      "Total reward this episode: -82.42499500513077\n",
      "Total reward this episode: -4.824999630451202\n",
      "Total reward this episode: -44.02499729394913\n",
      "Total reward this episode: 3.9749996662139893\n",
      "Total reward this episode: -183.4749889820814\n",
      "[-128.9, -423.1, -96.57, -106.95, -36.37, 1.83, -71.47, -1372.0, -125.12, -0.8, -608.85, -103.9, -66.05, -528.97, -84.4, -156.42, -184.62, -39.87, -369.4, -236.35, -1169.05, -482.82, -1274.02, -0.57, -1641.17, -305.55, -0.9, -193.6, -20.3, -357.3, -57.75, -134.85, 4.97, 2.97, -18.6, -190.47, -376.0, -2214.55, -935.97, 2.85, -949.82, -70.05, -874.35, -33.25, -828.67, -165.87, -797.95, 4.7, -685.1, 0.48, -6.32, 4.37, 0.98, 0.23, -626.77, -0.55, -644.42, 0.5, -38.22, -785.92, -204.0, -872.87, -826.02, -305.1, -204.62, 0.98, -45.05, 4.97, 4.97, 4.97, -30.7, -964.27, 3.95, -391.3, -58.87, -233.87, -253.3, -476.22, -371.95, -787.17, -359.85, -215.35, -1352.05, -0.75, -461.77, -171.87, -85.32, -148.52, -476.37, -81.52, -520.32, -289.7, -62.55, -1861.12, -47.9, -82.42, -4.82, -44.02, 3.97, -183.47]\n"
     ]
    }
   ],
   "source": [
    "x = []\n",
    "for episode in range(100):\n",
    "    env_info = env.reset(train_mode=train_mode)[default_brain]\n",
    "    done = False\n",
    "    episode_rewards = 0\n",
    "    while not done:\n",
    "        action_size = brain.vector_action_space_size\n",
    "        if brain.vector_action_space_type == 'continuous':\n",
    "            env_info = env.step(np.random.randn(len(env_info.agents), \n",
    "                                                action_size[0]))[default_brain]\n",
    "        else:\n",
    "            action = np.column_stack([np.random.randint(0, action_size[i], size=(len(env_info.agents))) for i in range(len(action_size))])\n",
    "            env_info = env.step(action)[default_brain]\n",
    "        episode_rewards += env_info.rewards[0]\n",
    "        done = env_info.local_done[0]\n",
    "    print(\"Total reward this episode: {}\".format(episode_rewards))\n",
    "    x.append(round(episode_rewards, 2))\n",
    "print(x)"
   ]
  },
  {
   "cell_type": "markdown",
   "metadata": {},
   "source": [
    "## 6. Plot Rewards onto a graph\n",
    "\n",
    "Once the episodes have finished, we append each reward value into an array. We then plot the values of the array onto a graph. Considering this is a random input the graph results will vary greatly"
   ]
  },
  {
   "cell_type": "code",
   "execution_count": 9,
   "metadata": {},
   "outputs": [
    {
     "data": {
      "image/png": "[encoded data removed]",
      "text/plain": [
       "<Figure size 432x288 with 1 Axes>"
      ]
     },
     "metadata": {
      "needs_background": "light"
     },
     "output_type": "display_data"
    }
   ],
   "source": [
    "y = np.arange(100)\n",
    "plt.plot(y, x)\n",
    "plt.ylabel('Rewards')\n",
    "plt.xlabel('Episode')\n",
    "plt.show()"
   ]
  },
  {
   "cell_type": "markdown",
   "metadata": {},
   "source": [
    "## 7. Close Environment"
   ]
  },
  {
   "cell_type": "code",
   "execution_count": 10,
   "metadata": {},
   "outputs": [],
   "source": [
    "env.close()"
   ]
  }
 ],
 "metadata": {
  "kernelspec": {
   "display_name": "Python 3",
   "language": "python",
   "name": "python3"
  },
  "language_info": {
   "codemirror_mode": {
    "name": "ipython",
    "version": 3
   },
   "file_extension": ".py",
   "mimetype": "text/x-python",
   "name": "python",
   "nbconvert_exporter": "python",
   "pygments_lexer": "ipython3",
   "version": "3.6.7"
  }
 },
 "nbformat": 4,
 "nbformat_minor": 2
}
