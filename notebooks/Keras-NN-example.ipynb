{
 "cells": [
  {
   "cell_type": "markdown",
   "metadata": {},
   "source": [
    "## 1. Import all the nessessary imports"
   ]
  },
  {
   "cell_type": "code",
   "execution_count": 1,
   "metadata": {},
   "outputs": [
    {
     "name": "stderr",
     "output_type": "stream",
     "text": [
      "Using TensorFlow backend.\n"
     ]
    }
   ],
   "source": [
    "%matplotlib inline\n",
    "import matplotlib\n",
    "import matplotlib.pyplot as plt\n",
    "\n",
    "import numpy as np\n",
    "from keras.utils import to_categorical\n",
    "from keras import models\n",
    "from keras import layers\n",
    "\n",
    "# import necessary modules from keras\n",
    "from keras.layers import Dense, Dropout\n",
    "from keras.models import Sequential"
   ]
  },
  {
   "cell_type": "markdown",
   "metadata": {},
   "source": [
    "## 2. Import the IMBD dataset, which is built into keras"
   ]
  },
  {
   "cell_type": "code",
   "execution_count": 2,
   "metadata": {},
   "outputs": [],
   "source": [
    "from keras.datasets import imdb\n",
    "\n",
    "(training_data, training_targets), (testing_data, testing_targets) = imdb.load_data(num_words=10000)"
   ]
  },
  {
   "cell_type": "markdown",
   "metadata": {},
   "source": [
    "## 3. Set up data and targets"
   ]
  },
  {
   "cell_type": "code",
   "execution_count": 3,
   "metadata": {},
   "outputs": [],
   "source": [
    "data = np.concatenate((training_data, testing_data), axis=0)\n",
    "targets = np.concatenate((training_targets, testing_targets), axis=0)"
   ]
  },
  {
   "cell_type": "markdown",
   "metadata": {},
   "source": [
    "## 4. Vectorize the results to suit the NN"
   ]
  },
  {
   "cell_type": "code",
   "execution_count": 4,
   "metadata": {},
   "outputs": [],
   "source": [
    "# Vectorize reviews with fewer than 10,000 words and pad the excess with zeros\n",
    "# Every input to the NN needs to be the same size\n",
    "def vectorize(sequences, dimension = 10000):\n",
    "    results = np.zeros((len(sequences), dimension))\n",
    "    for i, sequence in enumerate(sequences):\n",
    "        results[i, sequence] = 1\n",
    "    return results\n",
    "\n",
    "data = vectorize(data)\n",
    "targets = np.array(targets).astype(\"float32\")"
   ]
  },
  {
   "cell_type": "markdown",
   "metadata": {},
   "source": [
    "## 5. Assign the testing and training sets"
   ]
  },
  {
   "cell_type": "code",
   "execution_count": 5,
   "metadata": {},
   "outputs": [],
   "source": [
    "test_x = data[:10000]\n",
    "test_y = targets[:10000]\n",
    "train_x = data[10000:]\n",
    "train_y = targets[10000:]"
   ]
  },
  {
   "cell_type": "markdown",
   "metadata": {},
   "source": [
    "## 6. Set up the layers and model"
   ]
  },
  {
   "cell_type": "code",
   "execution_count": 6,
   "metadata": {},
   "outputs": [
    {
     "name": "stdout",
     "output_type": "stream",
     "text": [
      "_________________________________________________________________\n",
      "Layer (type)                 Output Shape              Param #   \n",
      "=================================================================\n",
      "dense_1 (Dense)              (None, 50)                500050    \n",
      "_________________________________________________________________\n",
      "dropout_1 (Dropout)          (None, 50)                0         \n",
      "_________________________________________________________________\n",
      "dense_2 (Dense)              (None, 50)                2550      \n",
      "_________________________________________________________________\n",
      "dropout_2 (Dropout)          (None, 50)                0         \n",
      "_________________________________________________________________\n",
      "dense_3 (Dense)              (None, 50)                2550      \n",
      "_________________________________________________________________\n",
      "dense_4 (Dense)              (None, 1)                 51        \n",
      "=================================================================\n",
      "Total params: 505,201\n",
      "Trainable params: 505,201\n",
      "Non-trainable params: 0\n",
      "_________________________________________________________________\n"
     ]
    }
   ],
   "source": [
    "# Set the Model to Sequential\n",
    "model = models.Sequential()\n",
    "\n",
    "# Input - Layer\n",
    "model.add(layers.Dense(50, activation = \"relu\", input_shape=(10000, )))\n",
    "# Hidden - Layers\n",
    "model.add(layers.Dropout(0.3, noise_shape=None, seed=None))\n",
    "model.add(layers.Dense(50, activation = \"relu\"))\n",
    "model.add(layers.Dropout(0.2, noise_shape=None, seed=None))\n",
    "model.add(layers.Dense(50, activation = \"relu\"))\n",
    "# Output- Layer\n",
    "model.add(layers.Dense(1, activation = \"sigmoid\"))\n",
    "\n",
    "# Prints a summary of how the model currently looks\n",
    "model.summary()"
   ]
  },
  {
   "cell_type": "markdown",
   "metadata": {},
   "source": [
    "## 7. Configure and Train the model"
   ]
  },
  {
   "cell_type": "code",
   "execution_count": 7,
   "metadata": {},
   "outputs": [
    {
     "name": "stdout",
     "output_type": "stream",
     "text": [
      "Train on 40000 samples, validate on 10000 samples\n",
      "Epoch 1/20\n",
      "40000/40000 [==============================] - 34s 853us/step - loss: 0.3225 - acc: 0.8630 - val_loss: 0.2652 - val_acc: 0.8920\n",
      "Epoch 2/20\n",
      "40000/40000 [==============================] - 35s 884us/step - loss: 0.2008 - acc: 0.9224 - val_loss: 0.2725 - val_acc: 0.8897\n",
      "Epoch 3/20\n",
      "40000/40000 [==============================] - 26s 639us/step - loss: 0.1435 - acc: 0.9471 - val_loss: 0.3004 - val_acc: 0.8867\n",
      "Epoch 4/20\n",
      "40000/40000 [==============================] - 23s 572us/step - loss: 0.1064 - acc: 0.9610 - val_loss: 0.3688 - val_acc: 0.8825\n",
      "Epoch 5/20\n",
      "40000/40000 [==============================] - 22s 558us/step - loss: 0.0807 - acc: 0.9701 - val_loss: 0.3953 - val_acc: 0.8792\n",
      "Epoch 6/20\n",
      "40000/40000 [==============================] - 22s 555us/step - loss: 0.0652 - acc: 0.9752 - val_loss: 0.4381 - val_acc: 0.8809\n",
      "Epoch 7/20\n",
      "40000/40000 [==============================] - 24s 602us/step - loss: 0.0567 - acc: 0.9792 - val_loss: 0.4792 - val_acc: 0.8794\n",
      "Epoch 8/20\n",
      "40000/40000 [==============================] - 24s 603us/step - loss: 0.0505 - acc: 0.9808 - val_loss: 0.5062 - val_acc: 0.8791\n",
      "Epoch 9/20\n",
      "40000/40000 [==============================] - 24s 589us/step - loss: 0.0451 - acc: 0.9831 - val_loss: 0.5169 - val_acc: 0.8807\n",
      "Epoch 10/20\n",
      "40000/40000 [==============================] - 22s 548us/step - loss: 0.0439 - acc: 0.9840 - val_loss: 0.5122 - val_acc: 0.8810\n",
      "Epoch 11/20\n",
      "40000/40000 [==============================] - 23s 574us/step - loss: 0.0434 - acc: 0.9828 - val_loss: 0.5090 - val_acc: 0.8791\n",
      "Epoch 12/20\n",
      "40000/40000 [==============================] - 23s 567us/step - loss: 0.0388 - acc: 0.9851 - val_loss: 0.5538 - val_acc: 0.8770\n",
      "Epoch 13/20\n",
      "40000/40000 [==============================] - 22s 547us/step - loss: 0.0383 - acc: 0.9851 - val_loss: 0.5913 - val_acc: 0.8783\n",
      "Epoch 14/20\n",
      "40000/40000 [==============================] - 21s 518us/step - loss: 0.0331 - acc: 0.9870 - val_loss: 0.5586 - val_acc: 0.8782\n",
      "Epoch 15/20\n",
      "40000/40000 [==============================] - 20s 489us/step - loss: 0.0306 - acc: 0.9883 - val_loss: 0.6319 - val_acc: 0.8792\n",
      "Epoch 16/20\n",
      "40000/40000 [==============================] - 20s 502us/step - loss: 0.0342 - acc: 0.9870 - val_loss: 0.4944 - val_acc: 0.8788\n",
      "Epoch 17/20\n",
      "40000/40000 [==============================] - 19s 485us/step - loss: 0.0300 - acc: 0.9892 - val_loss: 0.6080 - val_acc: 0.8824\n",
      "Epoch 18/20\n",
      "40000/40000 [==============================] - 20s 493us/step - loss: 0.0300 - acc: 0.9881 - val_loss: 0.6297 - val_acc: 0.8810\n",
      "Epoch 19/20\n",
      "40000/40000 [==============================] - 20s 491us/step - loss: 0.0284 - acc: 0.9892 - val_loss: 0.6000 - val_acc: 0.8813\n",
      "Epoch 20/20\n",
      "40000/40000 [==============================] - 18s 451us/step - loss: 0.0250 - acc: 0.9907 - val_loss: 0.6187 - val_acc: 0.8795\n"
     ]
    }
   ],
   "source": [
    "# Configure the model for training\n",
    "model.compile(\n",
    " optimizer = \"adam\",\n",
    " loss = \"binary_crossentropy\",\n",
    " metrics = [\"accuracy\"]\n",
    ")\n",
    "\n",
    "# Train the model with the training set against the validated test set\n",
    "# Epoch of size 2 and a batch size of 500 - model overfits if and larger\n",
    "results = model.fit(\n",
    " train_x, train_y,\n",
    " epochs= 20,\n",
    " batch_size = 50,\n",
    " validation_data = (test_x, test_y)\n",
    ")"
   ]
  },
  {
   "cell_type": "markdown",
   "metadata": {},
   "source": [
    "## 8. Evaulate and print the mean results"
   ]
  },
  {
   "cell_type": "code",
   "execution_count": 8,
   "metadata": {},
   "outputs": [
    {
     "name": "stdout",
     "output_type": "stream",
     "text": [
      "Test-Accuracy: 0.8812999954819679\n"
     ]
    }
   ],
   "source": [
    "# Evaluate and print\n",
    "print(\"Test-Accuracy:\", np.mean(results.history[\"val_acc\"]))"
   ]
  },
  {
   "cell_type": "markdown",
   "metadata": {},
   "source": [
    "## 9. Plot out graph of the results"
   ]
  },
  {
   "cell_type": "code",
   "execution_count": 9,
   "metadata": {},
   "outputs": [
    {
     "data": {
      "image/png": "[encoded data removed]",
      "text/plain": [
       "<Figure size 432x288 with 1 Axes>"
      ]
     },
     "metadata": {
      "needs_background": "light"
     },
     "output_type": "display_data"
    },
    {
     "data": {
      "image/png": "[encoded data removed]",
      "text/plain": [
       "<Figure size 432x288 with 1 Axes>"
      ]
     },
     "metadata": {
      "needs_background": "light"
     },
     "output_type": "display_data"
    }
   ],
   "source": [
    "plt.plot(results.history['acc'])\n",
    "plt.plot(results.history['val_acc'])\n",
    "plt.title('Model accuracy')\n",
    "plt.ylabel('Accuracy')\n",
    "plt.xlabel('Epoch')\n",
    "plt.legend(['Train', 'Test'], loc='upper left')\n",
    "plt.show()\n",
    "\n",
    "plt.plot(results.history['loss'])\n",
    "plt.plot(results.history['val_loss'])\n",
    "plt.title('Model loss')\n",
    "plt.ylabel('Loss')\n",
    "plt.xlabel('Epoch')\n",
    "plt.legend(['Train', 'Test'], loc='upper left')\n",
    "plt.show()"
   ]
  },
  {
   "cell_type": "code",
   "execution_count": null,
   "metadata": {},
   "outputs": [],
   "source": []
  }
 ],
 "metadata": {
  "kernelspec": {
   "display_name": "Python 3",
   "language": "python",
   "name": "python3"
  },
  "language_info": {
   "codemirror_mode": {
    "name": "ipython",
    "version": 3
   },
   "file_extension": ".py",
   "mimetype": "text/x-python",
   "name": "python",
   "nbconvert_exporter": "python",
   "pygments_lexer": "ipython3",
   "version": "3.6.7"
  }
 },
 "nbformat": 4,
 "nbformat_minor": 2
}
